{
 "cells": [
  {
   "cell_type": "code",
   "execution_count": 60,
   "metadata": {},
   "outputs": [],
   "source": [
    "from logging import raiseExceptions\n",
    "from tokenize import Double\n",
    "import networkx as nx\n",
    "import matplotlib.pyplot as plt\n",
    "import torch\n",
    "from torch import nn\n",
    "from torch.utils.data import Dataset, DataLoader\n",
    "import os\n",
    "import numpy as np\n",
    "import torch\n",
    "torch.manual_seed(125)\n",
    "import random\n",
    "random.seed(125)\n",
    "import torch_f as torch_f\n",
    "from modelovae import Node, GRASSEncoder, GRASSDecoder, deserialize\n",
    "import seaborn as sns\n",
    "from matplotlib.ticker import MaxNLocator\n",
    "import statistics\n"
   ]
  },
  {
   "cell_type": "code",
   "execution_count": 41,
   "metadata": {},
   "outputs": [],
   "source": [
    "use_gpu = True\n",
    "device = torch.device(\"cuda:0\" if use_gpu and torch.cuda.is_available() else \"cpu\")\n",
    "\n",
    "def count_fn(f):\n",
    "    def wrapper(*args, **kwargs):\n",
    "        wrapper.count += 1\n",
    "        return f(*args, **kwargs)\n",
    "    wrapper.count = 0\n",
    "    return wrapper"
   ]
  },
  {
   "cell_type": "code",
   "execution_count": 42,
   "metadata": {},
   "outputs": [],
   "source": [
    "def traverseleaves(root, leaves):\n",
    "    if root is not None:\n",
    "        traverseleaves(root.left, leaves)\n",
    "        if root.is_leaf():\n",
    "            leaves.append(root)\n",
    "        traverseleaves(root.right, leaves)\n",
    "        return\n",
    "\n",
    "def traverse(root):\n",
    "        if root is not None:\n",
    "            traverse(root.left)\n",
    "            root.radius=root.radius.reshape(4)\n",
    "            traverse(root.right)\n",
    "            return\n",
    "\n",
    "def traverseradius(root, rlist):\n",
    "    if root is not None:\n",
    "        traverseradius(root.left, rlist)\n",
    "        rlist.append(root.radius[3])\n",
    "        print(\"radius\", root.radius[3])\n",
    "        traverseradius(root.right, rlist)\n",
    "        return \n",
    "\n",
    "def traversefeatures(root, features):\n",
    "    if root is not None:\n",
    "        traversefeatures(root.left, features)\n",
    "        features.append(root.radius[3].cpu().item())\n",
    "        traversefeatures(root.right, features)\n",
    "        return features\n",
    "\n",
    "def traversefeatures2(root, features):\n",
    "    if root is not None:\n",
    "        traversefeatures2(root.left, features)\n",
    "        features.append(root.radius[0][3].cpu().item())\n",
    "        traversefeatures2(root.right, features)\n",
    "        return features          \n",
    "\n",
    "def traverse_conexiones(root, tree):\n",
    "        \"\"\"\n",
    "        traverse function will print all the node in the tree.\n",
    "        \"\"\"\n",
    "        if root is not None:\n",
    "            traverse_conexiones(root.left, tree)\n",
    "            if root.right is not None:\n",
    "                tree.append((root.data, root.right.data))\n",
    "            if root.left is not None:\n",
    "                tree.append((root.data, root.left.data))\n",
    "            traverse_conexiones(root.right, tree)\n",
    "            return tree\n",
    "\n",
    "@count_fn\n",
    "def createNode(data, radius,left = None, right = None):\n",
    "        \"\"\"\n",
    "        Utility function to create a node.\n",
    "        \"\"\"\n",
    "        return Node(data, radius, left, right)\n",
    " \n",
    "\n",
    "\n",
    "def read_tree(filename, dir):\n",
    "    with open('./' +dir +'/' +filename, \"r\") as f:\n",
    "        byte = f.read() \n",
    "        return byte\n",
    "\n",
    "def numerar_nodos(root, count):\n",
    "    if root is not None:\n",
    "        numerar_nodos(root.left, count)\n",
    "        root.data = len(count)\n",
    "        count.append(1)\n",
    "        numerar_nodos(root.right, count)\n",
    "        return \n",
    "\n",
    "def number_nodes(data_loader, batch_size):\n",
    "    n_no = []\n",
    "    qzero = 0\n",
    "    qOne = 0\n",
    "    qtwo = 0\n",
    "    for batch in data_loader:\n",
    "        for tree in batch:\n",
    "            tree = tree[0]\n",
    "            count = []\n",
    "            n = tree.count_nodes(tree, count)\n",
    "            n_no.append(len(n))\n",
    "            li = []\n",
    "            tree.traverseInorderChilds(tree, li)\n",
    "            zero = [a for a in li if a == 0]\n",
    "            one = [a for a in li if a == 1]\n",
    "            two = [a for a in li if a == 2]\n",
    "            qzero += len(zero)\n",
    "            qOne += len(one)\n",
    "            qtwo += len(two)\n",
    "\n",
    "    nprom = np.mean(n_no)\n",
    "    qzero /= len(data_loader)*batch_size\n",
    "    qOne /= len(data_loader)*batch_size\n",
    "    qtwo /= len(data_loader)*batch_size\n",
    "    if round(qzero) == 0:\n",
    "        qzero = 1\n",
    "    if round(qOne) == 0:\n",
    "        qOne = 1\n",
    "    if round(qtwo) == 0:\n",
    "        qtwo = 1\n",
    "    mult = torch.tensor([1/round(qzero),1/round(qOne),1/round(qtwo)], device = device)\n",
    "    return mult\n",
    "    "
   ]
  },
  {
   "cell_type": "code",
   "execution_count": 43,
   "metadata": {},
   "outputs": [],
   "source": [
    "def decode_testing(v, max, decoder, mult, min):\n",
    "    def decode_node(v, max, decoder, mult, min):\n",
    "\n",
    "        cl = decoder.nodeClassifier(v)\n",
    "        _, label = torch.max(cl, 1)\n",
    "        label = label.data\n",
    "        \n",
    "        \n",
    "        if label == 1 and createNode.count <= max:\n",
    "            right, radius = decoder.internalDecoder(v)\n",
    "                \n",
    "            d = createNode(1, radius) \n",
    "            \n",
    "            d.right = decode_node(right, max, decoder, mult, min)\n",
    "            return d\n",
    "\n",
    "        elif label == 2 and createNode.count <= max:\n",
    "            left, right, radius = decoder.bifurcationDecoder(v)\n",
    "                \n",
    "            d = createNode(1, radius)\n",
    "            \n",
    "            d.right = decode_node(right, max, decoder, mult, min)\n",
    "            d.left = decode_node(left, max, decoder, mult, min)\n",
    "        \n",
    "            return d\n",
    "\n",
    "       \n",
    "        elif label == 0 : ##output del classifier\n",
    "            radio = decoder.featureDecoder(v)\n",
    "            return createNode(1,radio)  \n",
    "        \n",
    "\n",
    "    createNode.count = 0\n",
    "    v = decoder.sample_decoder(v)\n",
    "    dec = decode_node (v, max, decoder, mult, min)\n",
    "\n",
    "    return dec"
   ]
  },
  {
   "cell_type": "code",
   "execution_count": 44,
   "metadata": {},
   "outputs": [],
   "source": [
    "def my_collate(batch):\n",
    "    return batch\n",
    "\n",
    "\n",
    "class tDataset(Dataset):\n",
    "    def __init__(self, l, dir, transform=None):\n",
    "        self.names = l\n",
    "        self.transform = transform\n",
    "        self.data = [] #lista con las strings de todos los arboles\n",
    "        for file in self.names:\n",
    "            self.data.append(read_tree(file, dir))\n",
    "        self.trees = []\n",
    "\n",
    "        for tree in self.data:\n",
    "            deserial = deserialize(tree)\n",
    "            self.trees.append(deserial)\n",
    "            \n",
    "\n",
    "    def __len__(self):\n",
    "        return len(self.names)\n",
    "\n",
    "    def __getitem__(self, idx):\n",
    "        #file = self.names[idx]\n",
    "        #string = read_tree(file)\n",
    "        tree = self.trees[idx]\n",
    "        name = self.names[idx]\n",
    "        return tree\n",
    "\n",
    "batch_size = 1"
   ]
  },
  {
   "cell_type": "code",
   "execution_count": 45,
   "metadata": {},
   "outputs": [
    {
     "name": "stdout",
     "output_type": "stream",
     "text": [
      "d data/paper/IntraP5eps02\n",
      "100\n"
     ]
    }
   ],
   "source": [
    "dataset_name = \"Intra\"\n",
    "p = str(5)\n",
    "eps = str(0)+str(2)\n",
    "d = \"data/paper/\" + dataset_name + \"P\" +p + \"eps\" + eps\n",
    "print(\"d\", d)\n",
    "t_list = os.listdir(d)[:100]\n",
    "print(len(t_list))\n",
    "dataset = tDataset(t_list, d )\n",
    "data_loader = DataLoader(dataset, batch_size = batch_size, shuffle=True, collate_fn=my_collate)\n",
    "    \n",
    "i = 0\n",
    "d = None\n",
    "d_nodos = []\n",
    "n_bifo = []\n",
    "for batch in data_loader:\n",
    "    for input in batch:\n",
    "        count = []\n",
    "        numerar_nodos(input, count)\n",
    "        d_nodos.append(len(count))\n",
    "        li = []\n",
    "        input.traverseInorderChilds(input, li)\n",
    "        two = [a for a in li if a == 2]\n",
    "        n_bifo.append(len(two))\n"
   ]
  },
  {
   "cell_type": "code",
   "execution_count": 46,
   "metadata": {},
   "outputs": [],
   "source": [
    "def distance(node1, node2):\n",
    "    \"\"\"\n",
    "    Calculates the Euclidean distance between two nodes\n",
    "    \"\"\"\n",
    "    if node1 is not None and node2 is not None:\n",
    "        dist = ((node1.radius[0]-node2.radius[0])**2 + \n",
    "                (node1.radius[1]-node2.radius[1])**2 + \n",
    "                (node1.radius[2]-node2.radius[2])**2)**0.5\n",
    "    else:\n",
    "        dist = 0\n",
    "    return dist"
   ]
  },
  {
   "cell_type": "code",
   "execution_count": 47,
   "metadata": {},
   "outputs": [],
   "source": [
    "def tree_length(node):\n",
    "    '''calcula el largo total del arbol'''\n",
    "    if node is None:\n",
    "        return 0\n",
    "\n",
    "    stack = [(node, None)]\n",
    "    length = 0\n",
    "\n",
    "    while stack:\n",
    "        curr, prev = stack.pop()\n",
    "\n",
    "        if curr.left:\n",
    "            stack.append((curr.left, curr))\n",
    "\n",
    "        if curr.right:\n",
    "            stack.append((curr.right, curr))\n",
    "\n",
    "        if prev:\n",
    "            length += distance(prev, curr)\n",
    "\n",
    "    return length"
   ]
  },
  {
   "cell_type": "code",
   "execution_count": 48,
   "metadata": {},
   "outputs": [],
   "source": [
    "def total_length(root, node, d):\n",
    "    '''\n",
    "    calcula la distancia del primer a ultimo nodo, arbol sin bifurcaciones\n",
    "    '''\n",
    "    if node.left:\n",
    "        total_length(root, node.left, d)\n",
    "    if node.isLeaf():\n",
    "        #d = distance(root, node)\n",
    "        d.append(distance(root, node))\n",
    "        return \n",
    "    if node.right:\n",
    "        total_length(root, node.right, d)\n",
    "\n",
    "def total_path_length(node):\n",
    "    \"\"\"\n",
    "    Calculates the total path length of the tree\n",
    "    \"\"\"\n",
    "    if node is None:\n",
    "        return 0\n",
    "    else:\n",
    "        return distance(node, node.left) + total_path_length(node.left) + distance(node, node.right) + total_path_length(node.right)\n",
    "\n",
    "def tortuosity(root):\n",
    "    \"\"\"\n",
    "    Calculates the tortuosity of the tree\n",
    "    \"\"\"\n",
    "    total_path_length_value = total_path_length(root)\n",
    "    d = []\n",
    "    max_path_length_value = total_length(root,root, d)\n",
    "    return total_path_length_value / d[0]"
   ]
  },
  {
   "attachments": {},
   "cell_type": "markdown",
   "metadata": {},
   "source": [
    "calculo tortuosidad, numero de bifurcaciones, largo total para el dataset"
   ]
  },
  {
   "cell_type": "code",
   "execution_count": 49,
   "metadata": {},
   "outputs": [],
   "source": [
    "tortuosidad = []\n",
    "n_bif = []\n",
    "largo = []\n",
    "n_nodes = []\n",
    "ratio_radios = []\n",
    "for batch in data_loader:\n",
    "    for input in batch:\n",
    "\n",
    "        graph = nx.Graph()\n",
    "        input.toGraph(graph, 0 , False, flag = 0)\n",
    "        degree1 = []\n",
    "\n",
    "        for node in graph.nodes():\n",
    "            if graph.degree(node) == 1:\n",
    "                degree1.append(node)\n",
    "       \n",
    "        caminos = [ nx.shortest_path( graph, degree1[0], t ) for t in degree1[1:] ]\n",
    "    \n",
    "        subarboles = []\n",
    "        for g in caminos:\n",
    "            grafo = nx.Graph()\n",
    "            grafo.add_nodes_from(g)\n",
    "            et = []\n",
    "            for node in grafo.nodes:\n",
    "                edge = graph[node]\n",
    "                edges = [a for a in list(edge.keys()) if a in g]\n",
    "                edge_tuple = [(a,b) for a,b in zip([node]*len(edges), edges) ]\n",
    "                for tuple in edge_tuple:\n",
    "                    et.append(tuple)\n",
    "            grafo.add_edges_from(et)\n",
    "    \n",
    "            aRecorrer = []\n",
    "            numeroNodoInicial = degree1[0]\n",
    "            r = graph.nodes[numeroNodoInicial]['radio']\n",
    "            rad = list(graph.nodes[numeroNodoInicial]['posicion'])\n",
    "            rad.append(r)\n",
    "\n",
    "            nodoRaiz = Node( numeroNodoInicial, radius =  rad )\n",
    "\n",
    "            for vecino in grafo.neighbors( numeroNodoInicial ):\n",
    "                if vecino != numeroNodoInicial:\n",
    "                    aRecorrer.append( (vecino, numeroNodoInicial,nodoRaiz ) )\n",
    "            \n",
    "            while len(aRecorrer) != 0:\n",
    "                nodoAAgregar, numeroNodoPadre,nodoPadre = aRecorrer.pop(0)\n",
    "                r = graph.nodes[nodoAAgregar]['radio']\n",
    "                rad = list(graph.nodes[nodoAAgregar]['posicion'])\n",
    "                rad.append(r)\n",
    "                nodoActual = Node( nodoAAgregar, radius =  rad)\n",
    "                nodoPadre.agregarHijo( nodoActual )\n",
    "                for vecino in grafo.neighbors( nodoAAgregar ):\n",
    "                    if vecino != numeroNodoPadre:\n",
    "                        aRecorrer.append( (vecino, nodoAAgregar,nodoActual) )\n",
    "            subarboles.append(nodoRaiz)\n",
    "            tortuosidad.append(tortuosity(nodoRaiz))\n",
    "        li = []\n",
    "        input.traverseInorderChilds(input, li)\n",
    "        two = [a for a in li if a == 2]\n",
    "        n_bif.append(len(two))\n",
    "        total_path_length_value = tree_length(input)\n",
    "        largo.append(total_path_length_value.cpu().item())\n",
    "        count = []\n",
    "        n = input.countNodes(input, count)\n",
    "        n_nodes.append(len(n))\n",
    "        features = []\n",
    "        traversefeatures(input, features)\n",
    "        ratio_radios.append(sum(features)/len(features))"
   ]
  },
  {
   "attachments": {},
   "cell_type": "markdown",
   "metadata": {},
   "source": [
    "calculo tortuosidad, numero de bifurcaciones para los generados"
   ]
  },
  {
   "cell_type": "code",
   "execution_count": 74,
   "metadata": {},
   "outputs": [],
   "source": [
    "a = [1.,1.,1.]\n",
    "mult = torch.Tensor(a)\n",
    "latent_size = 64\n",
    "Grassdecoder = GRASSDecoder(latent_size=latent_size, hidden_size=256, mult = mult.to(device))\n",
    "Grassdecoder = Grassdecoder.to(device)\n",
    "Grassdecoder.eval()\n",
    "checkpoint = torch.load(\"output/\" + dataset_name + \"P\" +p + \"eps\" + eps+ \"-best.pth\")\n",
    "#checkpoint = torch.load(\"output/\" + dataset_name + eps+ \"-best.pth\")\n",
    "\n",
    "\n",
    "\n",
    "Grassdecoder.load_state_dict(checkpoint['decoder_state_dict'])\n",
    "epoch = checkpoint['epoch']\n",
    "\n",
    "i = 0\n",
    "n = 100\n",
    "tortuosidad_generados = []\n",
    "n_bif_generados = []\n",
    "n_nodes_generados = []\n",
    "largo_generados = []\n",
    "ratio_radios_generados = []\n",
    "with torch.no_grad():\n",
    "    for i in range(n):\n",
    "        noise = torch.randn(batch_size, latent_size).to(device)\n",
    "        generated_images = decode_testing(noise, 100, Grassdecoder, mult, 1)\n",
    "        count = []\n",
    "        numerar_nodos(generated_images, count)\n",
    "        graph = nx.Graph()\n",
    "        generated_images.toGraph(graph, 0 , True, flag = 0)\n",
    "        degree1 = []\n",
    "\n",
    "        for node in graph.nodes():\n",
    "            if graph.degree(node) == 1:\n",
    "                degree1.append(node)\n",
    "        caminos = [ nx.shortest_path( graph, degree1[0], t ) for t in degree1[1:] ]\n",
    "        subarboles = []\n",
    "        for g in caminos:\n",
    "            grafo = nx.Graph()\n",
    "            grafo.add_nodes_from(g)\n",
    "            et = []\n",
    "            for node in grafo.nodes:\n",
    "                edge = graph[node]\n",
    "                edges = [a for a in list(edge.keys()) if a in g]\n",
    "                edge_tuple = [(a,b) for a,b in zip([node]*len(edges), edges) ]\n",
    "                for tuple in edge_tuple:\n",
    "                    et.append(tuple)\n",
    "            grafo.add_edges_from(et)\n",
    "    \n",
    "            aRecorrer = []\n",
    "            numeroNodoInicial = degree1[0]\n",
    "            r = graph.nodes[numeroNodoInicial]['radio']\n",
    "            rad = list(graph.nodes[numeroNodoInicial]['posicion'])\n",
    "            rad.append(r)\n",
    "\n",
    "            nodoRaiz = Node( numeroNodoInicial, radius =  rad )\n",
    "\n",
    "            for vecino in grafo.neighbors( numeroNodoInicial ):\n",
    "                if vecino != numeroNodoInicial:\n",
    "                    aRecorrer.append( (vecino, numeroNodoInicial,nodoRaiz ) )\n",
    "            \n",
    "            while len(aRecorrer) != 0:\n",
    "                nodoAAgregar, numeroNodoPadre,nodoPadre = aRecorrer.pop(0)\n",
    "                r = graph.nodes[nodoAAgregar]['radio']\n",
    "                rad = list(graph.nodes[nodoAAgregar]['posicion'])\n",
    "                rad.append(r)\n",
    "                nodoActual = Node( nodoAAgregar, radius =  rad)\n",
    "                nodoPadre.agregarHijo( nodoActual )\n",
    "                for vecino in grafo.neighbors( nodoAAgregar ):\n",
    "                    if vecino != numeroNodoPadre:\n",
    "                        aRecorrer.append( (vecino, nodoAAgregar,nodoActual) )\n",
    "            subarboles.append(nodoRaiz)\n",
    "            tortuosidad_generados.append(tortuosity(nodoRaiz))\n",
    "        li = []\n",
    "        generated_images.traverseInorderChilds(generated_images, li)\n",
    "        two = [a for a in li if a == 2]\n",
    "        n_bif_generados.append(len(two))\n",
    "        count = []\n",
    "        n = generated_images.countNodes(generated_images, count)\n",
    "        n_nodes_generados.append(len(n))\n",
    "        traverse(generated_images)\n",
    "        \n",
    "        total_path_length_value = tree_length(generated_images)\n",
    "        largo_generados.append(total_path_length_value.cpu().item())\n",
    "        features = []\n",
    "        \n",
    "        traversefeatures(generated_images, features)\n",
    "        ratio_radios_generados.append(sum(features)/len(features))"
   ]
  },
  {
   "cell_type": "code",
   "execution_count": 51,
   "metadata": {},
   "outputs": [],
   "source": [
    "def tr(root):\n",
    "        if root is not None:\n",
    "            tr(root.left)\n",
    "            root.radius[0][3]=root.radius[0][3]/10\n",
    "            if root.radius[0][3]<0:\n",
    "                root.radius[0][3]=0\n",
    "            tr(root.right)\n",
    "            return"
   ]
  },
  {
   "cell_type": "code",
   "execution_count": 52,
   "metadata": {},
   "outputs": [],
   "source": [
    "enmax_palette = [\"#FE7871\", \"#B50603\"]\n",
    "\n",
    "color_codes_wanted = ['pink', 'blue']\n",
    "col = lambda x: enmax_palette[color_codes_wanted.index(x)]\n",
    "#sns.set_palette(palette=enmax_palette)"
   ]
  },
  {
   "attachments": {},
   "cell_type": "markdown",
   "metadata": {},
   "source": [
    "HISTOGRAMAS"
   ]
  },
  {
   "cell_type": "code",
   "execution_count": 75,
   "metadata": {},
   "outputs": [
    {
     "name": "stderr",
     "output_type": "stream",
     "text": [
      "c:\\Users\\User\\anaconda3\\envs\\py_torch\\lib\\site-packages\\seaborn\\axisgrid.py:123: UserWarning: The figure layout has changed to tight\n",
      "  self._figure.tight_layout(*args, **kwargs)\n"
     ]
    },
    {
     "data": {
      "image/png": "[encoded data removed]",
      "text/plain": [
       "<Figure size 1000x1000 with 1 Axes>"
      ]
     },
     "metadata": {},
     "output_type": "display_data"
    }
   ],
   "source": [
    "#plt.figure(figsize=(10,20))\n",
    "\n",
    "sns.displot([ratio_radios, ratio_radios_generados], multiple=\"dodge\", height=10, aspect=1, legend=False, palette = enmax_palette)\n",
    "ax = plt.gca()\n",
    "\n",
    "#ax.set_title(\"Radius P{} {}\".format(p, dataset_name), fontsize=35)\n",
    "\n",
    "#ax.set_xlabel(\"Radius\", fontsize = 25)\n",
    "ax.set_ylabel(\"  \", fontsize = 25)\n",
    "plt.xticks(fontsize=15)\n",
    "plt.yticks(fontsize=15)\n",
    "\n",
    "ax.xaxis.set_major_locator(MaxNLocator(nbins=1))\n",
    "ax.yaxis.set_major_locator(MaxNLocator(nbins=1))\n",
    "# get the patches for each dataset\n",
    "patches = ax.patches\n",
    "l = int(len(patches)/2)\n",
    "patches_radius = patches[:l]\n",
    "patches_radius_generados = patches[l:]\n",
    "\n",
    "# get the counts for ratio_radios\n",
    "counts_radius = [patch.get_height() for patch in patches_radius]\n",
    "\n",
    "# get the counts for ratio_radios_generados\n",
    "counts_radius_generados = [patch.get_height() for patch in patches_radius_generados]\n",
    "\n",
    "#ax.legend(labels=[\"Synthetic samples\", \"Real samples\"], fontsize = 25)"
   ]
  },
  {
   "cell_type": "code",
   "execution_count": 76,
   "metadata": {},
   "outputs": [
    {
     "data": {
      "text/plain": [
       "0.9412181208453927"
      ]
     },
     "execution_count": 76,
     "metadata": {},
     "output_type": "execute_result"
    }
   ],
   "source": [
    "np.dot(counts_radius, counts_radius_generados)/(np.linalg.norm(counts_radius)*np.linalg.norm(counts_radius_generados))"
   ]
  },
  {
   "cell_type": "code",
   "execution_count": 61,
   "metadata": {},
   "outputs": [
    {
     "name": "stdout",
     "output_type": "stream",
     "text": [
      "Mean: 0.9248455743132006\n",
      "Standard Deviation: 0.0309613557942636\n"
     ]
    }
   ],
   "source": [
    "values = [0.946306381992226, 0.8893526816459894, 0.9388776593013862]\n",
    "\n",
    "# Mean\n",
    "mean = statistics.mean(values)\n",
    "print(\"Mean:\", mean)\n",
    "\n",
    "# Standard Deviation\n",
    "std_dev = statistics.stdev(values)\n",
    "print(\"Standard Deviation:\", std_dev)"
   ]
  },
  {
   "cell_type": "code",
   "execution_count": 66,
   "metadata": {},
   "outputs": [
    {
     "name": "stdout",
     "output_type": "stream",
     "text": [
      "t-statistic: nan\n",
      "p-value: nan\n"
     ]
    }
   ],
   "source": [
    "from scipy import stats\n",
    "\n",
    "# Example cosine similarity score (replace with your actual score)\n",
    "cosine_similarity_score = 0.946306381992226\n",
    "\n",
    "# Define null hypothesis value (e.g., expected similarity score)\n",
    "null_hypothesis_value = 1  # Adjust this value according to your hypothesis\n",
    "\n",
    "# Perform one-sample t-test\n",
    "t_statistic, p_value = stats.ttest_1samp(cosine_similarity_score, null_hypothesis_value)\n",
    "print(\"t-statistic:\", t_statistic)\n",
    "print(\"p-value:\", p_value)"
   ]
  },
  {
   "cell_type": "code",
   "execution_count": 73,
   "metadata": {},
   "outputs": [
    {
     "name": "stdout",
     "output_type": "stream",
     "text": [
      "Observed cosine similarity score is consistent with the variability expected under bootstrapping.\n",
      "Bootstrap Mean: 0.9244782645014769\n",
      "Bootstrap Standard Deviation: 0.014378619403961195\n",
      "95% Confidence Interval: [0.90586101 0.94383014]\n"
     ]
    }
   ],
   "source": [
    "import numpy as np\n",
    "\n",
    "# Example cosine similarity scores (replace with your actual scores)\n",
    "cosine_similarity_scores = [0.946306381992226, 0.8893526816459894, 0.9388776593013862]\n",
    "\n",
    "# Number of bootstrap samples\n",
    "num_bootstrap_samples = 1000\n",
    "\n",
    "# Generate bootstrap samples\n",
    "bootstrap_scores = []\n",
    "for _ in range(num_bootstrap_samples):\n",
    "    bootstrap_sample = np.random.choice(cosine_similarity_scores, size=len(cosine_similarity_scores), replace=True)\n",
    "    bootstrap_scores.append(np.mean(bootstrap_sample))\n",
    "\n",
    "# Calculate statistics of interest\n",
    "bootstrap_mean = np.mean(bootstrap_scores)\n",
    "bootstrap_std = np.std(bootstrap_scores)\n",
    "confidence_interval = np.percentile(bootstrap_scores, [5, 95])\n",
    "\n",
    "# Assess fidelity\n",
    "if confidence_interval[0] <= np.mean(cosine_similarity_scores) <= confidence_interval[1]:\n",
    "    print(\"Observed cosine similarity score is consistent with the variability expected under bootstrapping.\")\n",
    "else:\n",
    "    print(\"Observed cosine similarity score is not consistent with the variability expected under bootstrapping.\")\n",
    "\n",
    "print(\"Bootstrap Mean:\", bootstrap_mean)\n",
    "print(\"Bootstrap Standard Deviation:\", bootstrap_std)\n",
    "print(\"95% Confidence Interval:\", confidence_interval)"
   ]
  },
  {
   "attachments": {},
   "cell_type": "markdown",
   "metadata": {},
   "source": [
    "tortuosidad"
   ]
  },
  {
   "cell_type": "code",
   "execution_count": 56,
   "metadata": {},
   "outputs": [
    {
     "name": "stderr",
     "output_type": "stream",
     "text": [
      "c:\\Users\\User\\anaconda3\\envs\\py_torch\\lib\\site-packages\\seaborn\\axisgrid.py:123: UserWarning: The figure layout has changed to tight\n",
      "  self._figure.tight_layout(*args, **kwargs)\n"
     ]
    },
    {
     "data": {
      "image/png": "[encoded data removed]",
      "text/plain": [
       "<Figure size 1000x1000 with 1 Axes>"
      ]
     },
     "metadata": {},
     "output_type": "display_data"
    }
   ],
   "source": [
    "sns.displot([tortuosidad, tortuosidad_generados], multiple=\"dodge\", height=10, aspect=1, legend=False, palette = enmax_palette, bins = 50)\n",
    "ax = plt.gca()\n",
    "#ax.legend(labels=[\"Synthetic Samples\", \"Real samples\"], fontsize = 25)\n",
    "#ax.set_title(\"Tortuosity P{} {}\".format(p, dataset_name), fontsize=35)\n",
    "#ax.set_xlabel(\"Tortuosity\", fontsize = 25)\n",
    "ax.set_ylabel(\" \", fontsize = 15)\n",
    "plt.xticks(fontsize=10)\n",
    "plt.yticks(fontsize=10)\n",
    "\n",
    "\n",
    "# get the patches for each dataset\n",
    "patches = ax.patches\n",
    "l = int(len(patches)/2)\n",
    "patches_tortuosidad = patches[:l]\n",
    "patches_tortuosidad_generados = patches[l:]\n",
    "\n",
    "# get the counts for ratio_radios\n",
    "counts_tortuosidad = [patch.get_height() for patch in patches_tortuosidad]\n",
    "\n",
    "# get the counts for ratio_radios_generados\n",
    "counts_tortuosidad_generados = [patch.get_height() for patch in patches_tortuosidad_generados]\n",
    "#ax.xaxis.set_major_locator(MaxNLocator(nbins=1, prune='both'))\n"
   ]
  },
  {
   "cell_type": "code",
   "execution_count": 57,
   "metadata": {},
   "outputs": [
    {
     "data": {
      "text/plain": [
       "0.9203178864932338"
      ]
     },
     "execution_count": 57,
     "metadata": {},
     "output_type": "execute_result"
    }
   ],
   "source": [
    "np.dot(counts_tortuosidad, counts_tortuosidad_generados)/(np.linalg.norm(counts_tortuosidad)*np.linalg.norm(counts_tortuosidad_generados))"
   ]
  },
  {
   "attachments": {},
   "cell_type": "markdown",
   "metadata": {},
   "source": [
    "Largo total"
   ]
  },
  {
   "cell_type": "code",
   "execution_count": 58,
   "metadata": {},
   "outputs": [
    {
     "name": "stderr",
     "output_type": "stream",
     "text": [
      "c:\\Users\\User\\anaconda3\\envs\\py_torch\\lib\\site-packages\\seaborn\\axisgrid.py:123: UserWarning: The figure layout has changed to tight\n",
      "  self._figure.tight_layout(*args, **kwargs)\n"
     ]
    },
    {
     "data": {
      "image/png": "[encoded data removed]",
      "text/plain": [
       "<Figure size 1000x1000 with 1 Axes>"
      ]
     },
     "metadata": {},
     "output_type": "display_data"
    }
   ],
   "source": [
    "sns.displot([largo, largo_generados], multiple=\"dodge\", height=10, aspect=1, legend=False, palette=enmax_palette)\n",
    "ax = plt.gca()\n",
    "#ax.legend(labels=[\"Synthetic Samples\", \"Real samples\" ], fontsize = 25)\n",
    "#ax.set_title(\"Length P{} {}\".format(p, dataset_name), fontsize=35)\n",
    "\n",
    "#ax.set_xlabel(\"Length\", fontsize = 25)\n",
    "ax.set_ylabel(\"  \", fontsize = 25)\n",
    "plt.xticks(fontsize=15)\n",
    "plt.yticks(fontsize=15)\n",
    "# get the patches for each dataset\n",
    "patches = ax.patches\n",
    "l = int(len(patches)/2)\n",
    "patches_length = patches[:l]\n",
    "patches_length_generados = patches[l:]\n",
    "\n",
    "\n",
    "\n",
    "counts = [patch.get_height() for patch in patches]\n",
    "# get the counts for ratio_radios\n",
    "counts_length = [patch.get_height() for patch in patches_length]\n",
    "\n",
    "# get the counts for ratio_radios_generados\n",
    "counts_length_generados = [patch.get_height() for patch in patches_length_generados]"
   ]
  },
  {
   "cell_type": "code",
   "execution_count": 59,
   "metadata": {},
   "outputs": [
    {
     "data": {
      "text/plain": [
       "0.9786913224897238"
      ]
     },
     "execution_count": 59,
     "metadata": {},
     "output_type": "execute_result"
    }
   ],
   "source": [
    "np.dot(counts_length, counts_length_generados)/(np.linalg.norm(counts_length)*np.linalg.norm(counts_length_generados))"
   ]
  }
 ],
 "metadata": {
  "kernelspec": {
   "display_name": "py_torc",
   "language": "python",
   "name": "python3"
  },
  "language_info": {
   "codemirror_mode": {
    "name": "ipython",
    "version": 3
   },
   "file_extension": ".py",
   "mimetype": "text/x-python",
   "name": "python",
   "nbconvert_exporter": "python",
   "pygments_lexer": "ipython3",
   "version": "3.10.12"
  },
  "orig_nbformat": 4,
  "vscode": {
   "interpreter": {
    "hash": "8f3e717cd274da89498094fde320e6eab1bf0f52911d27cf47473187acb3fe8a"
   }
  }
 },
 "nbformat": 4,
 "nbformat_minor": 2
}
